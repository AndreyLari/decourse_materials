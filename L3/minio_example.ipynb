{
 "cells": [
  {
   "cell_type": "code",
   "execution_count": null,
   "metadata": {},
   "outputs": [],
   "source": [
    "S3_ACCESS_KEY = \"minio\"\n",
    "S3_SECRET_KEY = \"minio123\"\n",
    "S3_TEST_BUCKET = \"\"\n",
    "S3_ENDPOINT = \"http://localhost:9000\""
   ]
  }
 ],
 "metadata": {
  "language_info": {
   "name": "python"
  }
 },
 "nbformat": 4,
 "nbformat_minor": 2
}
